{
 "cells": [
  {
   "cell_type": "code",
   "execution_count": 1,
   "metadata": {
    "collapsed": true
   },
   "outputs": [],
   "source": [
    "import numpy as np\n",
    "import pandas as pd\n",
    "import re\n",
    "%matplotlib inline\n"
   ]
  },
  {
   "cell_type": "code",
   "execution_count": 2,
   "metadata": {},
   "outputs": [
    {
     "name": "stdout",
     "output_type": "stream",
     "text": [
      "<class 'pandas.core.frame.DataFrame'>\n",
      "RangeIndex: 891 entries, 0 to 890\n",
      "Data columns (total 12 columns):\n",
      "PassengerId    891 non-null int64\n",
      "Survived       891 non-null int64\n",
      "Pclass         891 non-null int64\n",
      "Name           891 non-null object\n",
      "Sex            891 non-null object\n",
      "Age            714 non-null float64\n",
      "SibSp          891 non-null int64\n",
      "Parch          891 non-null int64\n",
      "Ticket         891 non-null object\n",
      "Fare           891 non-null float64\n",
      "Cabin          204 non-null object\n",
      "Embarked       889 non-null object\n",
      "dtypes: float64(2), int64(5), object(5)\n",
      "memory usage: 83.6+ KB\n",
      "None\n"
     ]
    }
   ],
   "source": [
    "train = pd.read_csv('./input/train.csv', header = 0, dtype={'Age': np.float64})\n",
    "test  = pd.read_csv('./input/test.csv' , header = 0, dtype={'Age': np.float64})\n",
    "full_data = [train, test]\n",
    "\n",
    "print (train.info())"
   ]
  },
  {
   "cell_type": "code",
   "execution_count": 4,
   "metadata": {},
   "outputs": [
    {
     "name": "stdout",
     "output_type": "stream",
     "text": [
      "   Pclass  Survived\n",
      "0       1  0.629630\n",
      "1       2  0.472826\n",
      "2       3  0.242363\n"
     ]
    }
   ],
   "source": [
    "print(train[['Pclass', 'Survived']].groupby(['Pclass'], as_index=False).mean())"
   ]
  },
  {
   "cell_type": "code",
   "execution_count": 5,
   "metadata": {},
   "outputs": [
    {
     "name": "stdout",
     "output_type": "stream",
     "text": [
      "      Sex  Survived\n",
      "0  female  0.742038\n",
      "1    male  0.188908\n"
     ]
    }
   ],
   "source": [
    "print(train[['Sex', 'Survived']].groupby(['Sex'], as_index=False).mean())"
   ]
  },
  {
   "cell_type": "code",
   "execution_count": 14,
   "metadata": {},
   "outputs": [
    {
     "name": "stdout",
     "output_type": "stream",
     "text": [
      "<class 'pandas.core.frame.DataFrame'>\n",
      "<class 'pandas.core.frame.DataFrame'>\n"
     ]
    }
   ],
   "source": [
    "## new feature: family size\n",
    "for dataset in full_data:\n",
    "    print(type(dataset))\n",
    "    dataset[\"FamilySize\"] = dataset['SibSp'] + dataset['Parch'] + 1\n",
    "#print(train[['FamilySize', 'Survived']].groupby(['FamilySize'], as_index=False).mean())"
   ]
  },
  {
   "cell_type": "code",
   "execution_count": 11,
   "metadata": {},
   "outputs": [
    {
     "name": "stdout",
     "output_type": "stream",
     "text": [
      "<class 'list'>\n"
     ]
    }
   ],
   "source": [
    "print(type(full_data))\n",
    "#print(full_data[:5])"
   ]
  },
  {
   "cell_type": "code",
   "execution_count": 24,
   "metadata": {},
   "outputs": [
    {
     "name": "stdout",
     "output_type": "stream",
     "text": [
      "   IsAlone  Survived\n",
      "0        0  0.505650\n",
      "1        1  0.303538\n"
     ]
    }
   ],
   "source": [
    "for dataset in full_data:\n",
    "    dataset['IsAlone'] = 0\n",
    "    dataset.loc[dataset['FamilySize'] == 1, 'IsAlone'] = 1\n",
    "    \n",
    "print(train[['IsAlone', 'Survived']].groupby(['IsAlone'], as_index = False).mean())"
   ]
  },
  {
   "cell_type": "code",
   "execution_count": 35,
   "metadata": {},
   "outputs": [
    {
     "name": "stdout",
     "output_type": "stream",
     "text": [
      "  Embarked  Survived\n",
      "0        C       168\n",
      "1        Q        77\n",
      "2        S       644\n",
      "  Embarked  Survived\n",
      "0        C  0.553571\n",
      "1        Q  0.389610\n",
      "2        S  0.336957\n",
      "Null:  2\n"
     ]
    }
   ],
   "source": [
    "print (train[['Embarked', 'Survived']].groupby(['Embarked'], as_index=False).count())\n",
    "print (train[['Embarked', 'Survived']].groupby(['Embarked'], as_index=False).mean())\n",
    "\n",
    "print (\"Null: \", sum(pd.isnull(train['Embarked'])))\n",
    "## alternative: mis_val = train[['Embarked']].isnull().sum()\n"
   ]
  },
  {
   "cell_type": "code",
   "execution_count": 41,
   "metadata": {},
   "outputs": [
    {
     "name": "stdout",
     "output_type": "stream",
     "text": [
      "   CategoricalFare  Survived\n",
      "0   (-0.001, 7.91]  0.197309\n",
      "1   (7.91, 14.454]  0.303571\n",
      "2   (14.454, 31.0]  0.454955\n",
      "3  (31.0, 512.329]  0.581081\n"
     ]
    }
   ],
   "source": [
    "for dataset in full_data:\n",
    "    dataset['Fare'] = dataset['Fare'].fillna(train['Fare'].median())\n",
    "train['CategoricalFare'] = pd.qcut(train['Fare'], 4)\n",
    "print(train[['CategoricalFare', 'Survived']].groupby(['CategoricalFare'], as_index = False).mean())"
   ]
  },
  {
   "cell_type": "code",
   "execution_count": 58,
   "metadata": {},
   "outputs": [
    {
     "name": "stderr",
     "output_type": "stream",
     "text": [
      "/Users/udothemath1984/anaconda/lib/python3.6/site-packages/ipykernel_launcher.py:12: SettingWithCopyWarning: \n",
      "A value is trying to be set on a copy of a slice from a DataFrame\n",
      "\n",
      "See the caveats in the documentation: http://pandas.pydata.org/pandas-docs/stable/indexing.html#indexing-view-versus-copy\n",
      "  if sys.path[0] == '':\n"
     ]
    }
   ],
   "source": [
    "for dataset in full_data:\n",
    "    dataset_age = dataset['Age'] \n",
    "    age_avg = dataset_age.mean()\n",
    "    age_std = dataset_age.std()\n",
    "    age_null_count = dataset_age.isnull().sum()\n",
    "    \n",
    "    age_null_random_list = np.random.randint(age_avg-age_std, \n",
    "                                             age_avg+age_std,\n",
    "                                             size=age_null_count)\n",
    "    #print(age_null_random_list.shape)\n",
    "    #print(sum(list(np.isnan(dataset_age))))\n",
    "    dataset_age[np.isnan(dataset_age)] = age_null_random_list.copy()\n",
    "    dataset_age = dataset_age.astype(int)\n",
    "    \n",
    "train['CategoricalFare'] = pd.cut(train['Age'], 5)\n",
    "    "
   ]
  },
  {
   "cell_type": "code",
   "execution_count": 62,
   "metadata": {},
   "outputs": [
    {
     "name": "stdout",
     "output_type": "stream",
     "text": [
      "Sex       female  male\n",
      "Title                 \n",
      "Capt           0     1\n",
      "Col            0     2\n",
      "Countess       1     0\n",
      "Don            0     1\n",
      "Dr             1     6\n",
      "Jonkheer       0     1\n",
      "Lady           1     0\n",
      "Major          0     2\n",
      "Master         0    40\n",
      "Miss         182     0\n",
      "Mlle           2     0\n",
      "Mme            1     0\n",
      "Mr             0   517\n",
      "Mrs          125     0\n",
      "Ms             1     0\n",
      "Rev            0     6\n",
      "Sir            0     1\n",
      "0                                       Kelly, Mr. James\n",
      "1                       Wilkes, Mrs. James (Ellen Needs)\n",
      "2                              Myles, Mr. Thomas Francis\n",
      "3                                       Wirz, Mr. Albert\n",
      "4           Hirvonen, Mrs. Alexander (Helga E Lindqvist)\n",
      "5                             Svensson, Mr. Johan Cervin\n",
      "6                                   Connolly, Miss. Kate\n",
      "7                           Caldwell, Mr. Albert Francis\n",
      "8              Abrahim, Mrs. Joseph (Sophie Halaut Easu)\n",
      "9                                Davies, Mr. John Samuel\n",
      "10                                      Ilieff, Mr. Ylio\n",
      "11                            Jones, Mr. Charles Cresson\n",
      "12         Snyder, Mrs. John Pillsbury (Nelle Stevenson)\n",
      "13                                  Howard, Mr. Benjamin\n",
      "14     Chaffee, Mrs. Herbert Fuller (Carrie Constance...\n",
      "15         del Carlo, Mrs. Sebastiano (Argenia Genovesi)\n",
      "16                                     Keane, Mr. Daniel\n",
      "17                                     Assaf, Mr. Gerios\n",
      "18                          Ilmakangas, Miss. Ida Livija\n",
      "19                 Assaf Khalil, Mrs. Mariana (Miriam\")\"\n",
      "20                                Rothschild, Mr. Martin\n",
      "21                             Olsen, Master. Artur Karl\n",
      "22                  Flegenheim, Mrs. Alfred (Antoinette)\n",
      "23                       Williams, Mr. Richard Norris II\n",
      "24       Ryerson, Mrs. Arthur Larned (Emily Maria Borie)\n",
      "25                               Robins, Mr. Alexander A\n",
      "26                          Ostby, Miss. Helene Ragnhild\n",
      "27                                     Daher, Mr. Shedid\n",
      "28                               Brady, Mr. John Bertram\n",
      "29                                     Samaan, Mr. Elias\n",
      "                             ...                        \n",
      "388                                 Canavan, Mr. Patrick\n",
      "389                          Palsson, Master. Paul Folke\n",
      "390                           Payne, Mr. Vivian Ponsonby\n",
      "391       Lines, Mrs. Ernest H (Elizabeth Lindsey James)\n",
      "392                        Abbott, Master. Eugene Joseph\n",
      "393                                 Gilbert, Mr. William\n",
      "394                             Kink-Heilmann, Mr. Anton\n",
      "395       Smith, Mrs. Lucien Philip (Mary Eloise Hughes)\n",
      "396                                 Colbert, Mr. Patrick\n",
      "397    Frolicher-Stehli, Mrs. Maxmillian (Margaretha ...\n",
      "398                       Larsson-Rondberg, Mr. Edvard A\n",
      "399                             Conlon, Mr. Thomas Henry\n",
      "400                              Bonnell, Miss. Caroline\n",
      "401                                      Gale, Mr. Harry\n",
      "402                       Gibson, Miss. Dorothy Winifred\n",
      "403                               Carrau, Mr. Jose Pedro\n",
      "404                         Frauenthal, Mr. Isaac Gerald\n",
      "405         Nourney, Mr. Alfred (Baron von Drachstedt\")\"\n",
      "406                            Ware, Mr. William Jeffery\n",
      "407                           Widener, Mr. George Dunton\n",
      "408                      Riordan, Miss. Johanna Hannah\"\"\n",
      "409                            Peacock, Miss. Treasteall\n",
      "410                               Naughton, Miss. Hannah\n",
      "411      Minahan, Mrs. William Edward (Lillian E Thorpe)\n",
      "412                       Henriksson, Miss. Jenny Lovisa\n",
      "413                                   Spector, Mr. Woolf\n",
      "414                         Oliva y Ocana, Dona. Fermina\n",
      "415                         Saether, Mr. Simon Sivertsen\n",
      "416                                  Ware, Mr. Frederick\n",
      "417                             Peter, Master. Michael J\n",
      "Name: Name, Length: 418, dtype: object\n"
     ]
    }
   ],
   "source": [
    "def get_title(name):\n",
    "    title_search = re.search('([A-Za-z]+)\\.', name)\n",
    "    if title_search:\n",
    "        return title_search.group(1)\n",
    "    return \"\"\n",
    "\n",
    "for dataset in full_data:\n",
    "    dataset['Title'] = dataset['Name'].apply(get_title)\n",
    "    \n",
    "print(pd.crosstab(train['Title'], train['Sex']))\n",
    "print(dataset.Name)"
   ]
  },
  {
   "cell_type": "code",
   "execution_count": 63,
   "metadata": {
    "collapsed": true
   },
   "outputs": [],
   "source": [
    "## replacing the unusual title\n",
    "for dataset in full_data:\n",
    "    dataset['Title'] = dataset['Title'].replace(['Lady', 'Countess','Capt', 'Col',\\\n",
    " \t'Don', 'Dr', 'Major', 'Rev', 'Sir', 'Jonkheer', 'Dona'], 'Rare')\n",
    "\n",
    "    dataset['Title'] = dataset['Title'].replace('Mlle', 'Miss')\n",
    "    dataset['Title'] = dataset['Title'].replace('Ms', 'Miss')\n",
    "    dataset['Title'] = dataset['Title'].replace('Mme', 'Mrs')"
   ]
  },
  {
   "cell_type": "code",
   "execution_count": null,
   "metadata": {
    "collapsed": true
   },
   "outputs": [],
   "source": []
  }
 ],
 "metadata": {
  "kernelspec": {
   "display_name": "Python 3",
   "language": "python",
   "name": "python3"
  },
  "language_info": {
   "codemirror_mode": {
    "name": "ipython",
    "version": 3
   },
   "file_extension": ".py",
   "mimetype": "text/x-python",
   "name": "python",
   "nbconvert_exporter": "python",
   "pygments_lexer": "ipython3",
   "version": "3.6.0"
  }
 },
 "nbformat": 4,
 "nbformat_minor": 2
}
